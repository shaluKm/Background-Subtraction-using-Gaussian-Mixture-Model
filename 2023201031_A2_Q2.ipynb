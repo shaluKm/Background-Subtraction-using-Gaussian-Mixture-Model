{
  "cells": [
    {
      "cell_type": "markdown",
      "id": "518efe1c-da13-465c-b62a-0e38ae6f110c",
      "metadata": {
        "tags": [],
        "id": "518efe1c-da13-465c-b62a-0e38ae6f110c"
      },
      "source": [
        "# SMAI Assignment - 2\n",
        "\n",
        "## Question 2: Gaussian Mixture Models\n",
        "\n",
        "Resources:\n",
        "- https://youtu.be/qMTuMa86NzU\n",
        "- https://youtu.be/ZBLyXgjBx3Q\n",
        "\n",
        "Reference: https://scikit-learn.org/stable/modules/mixture.html"
      ]
    },
    {
      "cell_type": "code",
      "execution_count": 1,
      "id": "a1e7d9be-241c-4e93-aefe-36d5ffddb4df",
      "metadata": {
        "execution": {
          "iopub.execute_input": "2023-03-08T11:21:25.323288Z",
          "iopub.status.busy": "2023-03-08T11:21:25.322925Z",
          "iopub.status.idle": "2023-03-08T11:21:26.039733Z",
          "shell.execute_reply": "2023-03-08T11:21:26.039124Z",
          "shell.execute_reply.started": "2023-03-08T11:21:25.323265Z"
        },
        "tags": [],
        "id": "a1e7d9be-241c-4e93-aefe-36d5ffddb4df"
      },
      "outputs": [],
      "source": [
        "import os\n",
        "import numpy as np\n",
        "import matplotlib.pyplot as plt\n",
        "%matplotlib inline\n",
        "\n",
        "import cv2"
      ]
    },
    {
      "cell_type": "markdown",
      "id": "71a78b0c-256b-4b46-b925-d69e455e3d76",
      "metadata": {
        "id": "71a78b0c-256b-4b46-b925-d69e455e3d76"
      },
      "source": [
        "### Part 1: Gaussian Mixture Models\n",
        "\n",
        "We'll attempt to solve the task of background subtraction using Gaussian Mixture Models. Before that, you will need to implement the Gaussian Mixture Model algorithm from scratch.\n",
        "\n",
        "Some details:\n",
        "- Try to implement GMMs using Multi-variate Gaussian Distributions, the following tasks in the assignment are possible to implement using the Univariate version too but it might be bit inaccurate as explained below.\n",
        "    - To clarify further, we could treat each pixel in our RGB image as our data point with [R, G, B] channels as the dimensions to the Multi-variate data point, and we would easily get predictions for each pixel location using Multi-variate approach.\n",
        "    - Or, we could treat every single value in the given RGB image as a data point independent of what channel the belong to and consider them as Uni-variate data point, and get prediction using the Uni-variate approach.\n",
        "    But this affects our prediction, since we can't simply make per pixel predtions anymore, because for every pixel location we would now have 3 different predictions.\n",
        "    - To get around this, you could convert your image to Grayscale and then we would only have one channel/value corresponding to each pixel location, which would now allow us to use the Uni-variate approach for prediction, but this also means loss in information which would affect our quality of predictions.\n",
        "    - Try to have a class based implementation of GMM, this would really help you in Background Subtraction task. You can get some general ideas on how to structure your class by looking at `sklearn.mixture.GaussianMixture` documentation and source code.\n",
        "- The following code cell has a rough template to get you started with the implementation. You are free to change the structure of the code, this is just a suggestion to help you get started.\n",
        "\n",
        "\n",
        "TLDR: You may implement the univariate version of GMMs, but it might not be as accurate as the multivariate version and it is recommended to try and implement the multivariate version."
      ]
    },
    {
      "cell_type": "code",
      "source": [
        "import numpy as np\n",
        "from scipy.stats import multivariate_normal\n",
        "\n",
        "class GaussianMixtureModel:\n",
        "    def __init__(self, n_components, n_features):\n",
        "        self.n_components = n_components\n",
        "        self.n_features = n_features\n",
        "        self.weights = np.ones(n_components) / n_components\n",
        "        self.means = np.random.rand(n_components, n_features)\n",
        "        self.covariances = np.array([np.eye(n_features)] * n_components)\n",
        "\n",
        "\n",
        "    def fit(self, X, max_iter=100, tol=1e-3):\n",
        "        for _ in range(max_iter):\n",
        "\n",
        "            responsibilities = self._compute_responsibilities(X)\n",
        "\n",
        "            self._update_parameters(X, responsibilities)\n",
        "\n",
        "            if np.abs(np.sum(responsibilities - self.weights)) < tol:\n",
        "                break\n",
        "\n",
        "    def _compute_responsibilities(self, X):\n",
        "        responsibilities = np.zeros((len(X), self.n_components))\n",
        "        for i in range(len(X)):\n",
        "            for j in range(self.n_components):\n",
        "                responsibilities[i, j] = self.weights[j] * multivariate_normal.pdf(X[i], mean=self.means[j], cov=self.covariances[j])\n",
        "            responsibilities[i] /= np.sum(responsibilities[i])\n",
        "        return responsibilities\n",
        "\n",
        "    def _update_parameters(self, X, responsibilities):\n",
        "        for j in range(self.n_components):\n",
        "            N_j = np.sum(responsibilities[:, j])\n",
        "            self.weights[j] = N_j / len(X)\n",
        "            self.means[j] = np.sum(X * responsibilities[:, j][:, np.newaxis], axis=0) / N_j\n",
        "            covar_k = np.zeros((self.n_features, self.n_features))\n",
        "            for i in range(len(X)):\n",
        "                diff = X[i] - self.means[j]\n",
        "                covar_k += responsibilities[i, j] * np.outer(diff, diff)\n",
        "            self.covariances[j] = covar_k / N_j\n",
        "\n",
        "    def predict(self, X):\n",
        "        return np.argmax(self._compute_responsibilities(X), axis=1)\n"
      ],
      "metadata": {
        "id": "MufTRphLO4li"
      },
      "id": "MufTRphLO4li",
      "execution_count": 104,
      "outputs": []
    },
    {
      "cell_type": "markdown",
      "id": "535a6266-8fe6-4b8a-8f40-5e0e3c8721c8",
      "metadata": {
        "jp-MarkdownHeadingCollapsed": true,
        "tags": [],
        "id": "535a6266-8fe6-4b8a-8f40-5e0e3c8721c8"
      },
      "source": [
        "### Part 2: Background Subtraction\n",
        "\n",
        "![traffic](./videos/traffic.gif)\n",
        "\n",
        "In this question, you are required to extract the background image from a given set of training frames, and use the extracted background to display foreground objects in the test frames by subtracting that background image and then thresholding it accordingly.\n",
        "\n",
        "In this question, we are going to try different baselines to extract background from low resolution camera footage:\n",
        "\n",
        "1. Frame Averaging:\n",
        "    - Just take the average of every training frame, which gives us an approximate background image.\n",
        "    \n",
        "2. GMM Per Pixel:\n",
        "    - We will maintain per pixel GMMs of 2 components, and then fit these GMMs considering every training from for its corresponding pixel.\n",
        "    - And then use these GMMs to predict the pixel labels for every subsequent frame.\n",
        "    - Most of the time, the Gaussian with the higher weight corresponds to the background.\n",
        "    - We can implement this in a simpler way but with worse prediction results, you can extract a mean background image similar to the first baseline above.\n",
        "    - To extract the Mean background image, we can assign values of the Means corresponding to the highest weighted Gaussian for each pixel.\n",
        "    - This method is much simpler to implement but, this could give worse results."
      ]
    },
    {
      "cell_type": "code",
      "source": [
        "from google.colab import drive\n",
        "drive.mount('/content/drive')"
      ],
      "metadata": {
        "colab": {
          "base_uri": "https://localhost:8080/"
        },
        "id": "JlF9eW40bXhW",
        "outputId": "c9aa80af-e0ef-4a46-8405-ac6cff246c2a"
      },
      "id": "JlF9eW40bXhW",
      "execution_count": 2,
      "outputs": [
        {
          "output_type": "stream",
          "name": "stdout",
          "text": [
            "Mounted at /content/drive\n"
          ]
        }
      ]
    },
    {
      "cell_type": "code",
      "source": [
        "%cd drive/My Drive/rollnumber_A2_Q2"
      ],
      "metadata": {
        "colab": {
          "base_uri": "https://localhost:8080/"
        },
        "id": "RVFyhxpPbYb6",
        "outputId": "eb6b1ab1-6ed2-4490-f34a-39d944a575e9"
      },
      "id": "RVFyhxpPbYb6",
      "execution_count": 3,
      "outputs": [
        {
          "output_type": "stream",
          "name": "stdout",
          "text": [
            "/content/drive/My Drive/rollnumber_A2_Q2\n"
          ]
        }
      ]
    },
    {
      "cell_type": "code",
      "source": [
        "!ls"
      ],
      "metadata": {
        "colab": {
          "base_uri": "https://localhost:8080/"
        },
        "id": "MGEYdSvrbd4x",
        "outputId": "655733b4-58e5-43c2-adb5-e8dad13dca23"
      },
      "id": "MGEYdSvrbd4x",
      "execution_count": 4,
      "outputs": [
        {
          "output_type": "stream",
          "name": "stdout",
          "text": [
            "frames\tQ2.ipynb  results  videos\n"
          ]
        }
      ]
    },
    {
      "cell_type": "markdown",
      "id": "7a05a728-7e46-4875-8202-a2f4c15474ef",
      "metadata": {
        "jp-MarkdownHeadingCollapsed": true,
        "tags": [],
        "id": "7a05a728-7e46-4875-8202-a2f4c15474ef"
      },
      "source": [
        "#### Extracting Frames from videos"
      ]
    },
    {
      "cell_type": "code",
      "execution_count": 5,
      "id": "4bce85da-089c-49cb-a145-262f888e16a6",
      "metadata": {
        "execution": {
          "iopub.execute_input": "2023-03-08T04:08:37.130369Z",
          "iopub.status.busy": "2023-03-08T04:08:37.129961Z",
          "iopub.status.idle": "2023-03-08T04:08:37.135022Z",
          "shell.execute_reply": "2023-03-08T04:08:37.133398Z",
          "shell.execute_reply.started": "2023-03-08T04:08:37.130341Z"
        },
        "id": "4bce85da-089c-49cb-a145-262f888e16a6"
      },
      "outputs": [],
      "source": [
        "source_folder = 'videos'\n",
        "video = 'traffic.gif'\n",
        "\n",
        "source_path = f'./{source_folder}/{video}'"
      ]
    },
    {
      "cell_type": "code",
      "execution_count": 6,
      "id": "26ff69e5-55c6-4351-ba5c-4f09f1affe4c",
      "metadata": {
        "execution": {
          "iopub.execute_input": "2023-03-08T04:08:37.136732Z",
          "iopub.status.busy": "2023-03-08T04:08:37.136360Z",
          "iopub.status.idle": "2023-03-08T04:08:37.141945Z",
          "shell.execute_reply": "2023-03-08T04:08:37.140639Z",
          "shell.execute_reply.started": "2023-03-08T04:08:37.136693Z"
        },
        "tags": [],
        "id": "26ff69e5-55c6-4351-ba5c-4f09f1affe4c"
      },
      "outputs": [],
      "source": [
        "data_folder = 'frames'\n",
        "\n",
        "frames_path = f\"./{data_folder}/{video.rsplit('.', 1)[0]}\""
      ]
    },
    {
      "cell_type": "code",
      "execution_count": 7,
      "id": "ec1404b3-0318-4d1d-a4f8-cd1ad32c312c",
      "metadata": {
        "execution": {
          "iopub.execute_input": "2023-03-08T04:08:37.143793Z",
          "iopub.status.busy": "2023-03-08T04:08:37.143330Z",
          "iopub.status.idle": "2023-03-08T04:08:37.276702Z",
          "shell.execute_reply": "2023-03-08T04:08:37.275738Z",
          "shell.execute_reply.started": "2023-03-08T04:08:37.143758Z"
        },
        "id": "ec1404b3-0318-4d1d-a4f8-cd1ad32c312c"
      },
      "outputs": [],
      "source": [
        "%%capture\n",
        "\n",
        "!mkdir -p {frames_path} > /dev/null ;"
      ]
    },
    {
      "cell_type": "code",
      "execution_count": 8,
      "id": "dc493fa5-d2fb-4354-8eec-aa3daa3e3804",
      "metadata": {
        "execution": {
          "iopub.execute_input": "2023-03-08T04:08:37.278274Z",
          "iopub.status.busy": "2023-03-08T04:08:37.277897Z",
          "iopub.status.idle": "2023-03-08T04:08:37.518249Z",
          "shell.execute_reply": "2023-03-08T04:08:37.517372Z",
          "shell.execute_reply.started": "2023-03-08T04:08:37.278239Z"
        },
        "id": "dc493fa5-d2fb-4354-8eec-aa3daa3e3804"
      },
      "outputs": [],
      "source": [
        "%%capture\n",
        "\n",
        "!ffmpeg -i {source_path} {frames_path}/'frame_%04d.png' > /dev/null ;"
      ]
    },
    {
      "cell_type": "code",
      "source": [
        "!ls frames/traffic"
      ],
      "metadata": {
        "colab": {
          "base_uri": "https://localhost:8080/"
        },
        "id": "DGcElEK5b12f",
        "outputId": "b2261002-3a20-49a0-c4fe-8c566ffd5420"
      },
      "id": "DGcElEK5b12f",
      "execution_count": 9,
      "outputs": [
        {
          "output_type": "stream",
          "name": "stdout",
          "text": [
            "frame_0001.png\tframe_0015.png\tframe_0029.png\tframe_0043.png\tframe_0057.png\tframe_0071.png\n",
            "frame_0002.png\tframe_0016.png\tframe_0030.png\tframe_0044.png\tframe_0058.png\tframe_0072.png\n",
            "frame_0003.png\tframe_0017.png\tframe_0031.png\tframe_0045.png\tframe_0059.png\tframe_0073.png\n",
            "frame_0004.png\tframe_0018.png\tframe_0032.png\tframe_0046.png\tframe_0060.png\tframe_0074.png\n",
            "frame_0005.png\tframe_0019.png\tframe_0033.png\tframe_0047.png\tframe_0061.png\tframe_0075.png\n",
            "frame_0006.png\tframe_0020.png\tframe_0034.png\tframe_0048.png\tframe_0062.png\tframe_0076.png\n",
            "frame_0007.png\tframe_0021.png\tframe_0035.png\tframe_0049.png\tframe_0063.png\tframe_0077.png\n",
            "frame_0008.png\tframe_0022.png\tframe_0036.png\tframe_0050.png\tframe_0064.png\tframe_0078.png\n",
            "frame_0009.png\tframe_0023.png\tframe_0037.png\tframe_0051.png\tframe_0065.png\tframe_0079.png\n",
            "frame_0010.png\tframe_0024.png\tframe_0038.png\tframe_0052.png\tframe_0066.png\tframe_0080.png\n",
            "frame_0011.png\tframe_0025.png\tframe_0039.png\tframe_0053.png\tframe_0067.png\n",
            "frame_0012.png\tframe_0026.png\tframe_0040.png\tframe_0054.png\tframe_0068.png\n",
            "frame_0013.png\tframe_0027.png\tframe_0041.png\tframe_0055.png\tframe_0069.png\n",
            "frame_0014.png\tframe_0028.png\tframe_0042.png\tframe_0056.png\tframe_0070.png\n"
          ]
        }
      ]
    },
    {
      "cell_type": "markdown",
      "id": "e121347b-6089-4cf0-bc6e-1a341a48c397",
      "metadata": {
        "jp-MarkdownHeadingCollapsed": true,
        "tags": [],
        "id": "e121347b-6089-4cf0-bc6e-1a341a48c397"
      },
      "source": [
        "#### Loading Frames"
      ]
    },
    {
      "cell_type": "code",
      "execution_count": 10,
      "id": "9989bdab-245a-4c67-bc3e-c2067e9a72ab",
      "metadata": {
        "execution": {
          "iopub.execute_input": "2023-03-08T04:08:37.519762Z",
          "iopub.status.busy": "2023-03-08T04:08:37.519393Z",
          "iopub.status.idle": "2023-03-08T04:08:37.581165Z",
          "shell.execute_reply": "2023-03-08T04:08:37.580447Z",
          "shell.execute_reply.started": "2023-03-08T04:08:37.519727Z"
        },
        "id": "9989bdab-245a-4c67-bc3e-c2067e9a72ab"
      },
      "outputs": [],
      "source": [
        "import glob\n",
        "import cv2\n",
        "import numpy as np\n",
        "frames = []\n",
        "\n",
        "for file_path in sorted(glob.glob(f'{frames_path}/*.png', recursive = False)):\n",
        "    img = cv2.imread(file_path)\n",
        "    img = cv2.cvtColor(img, cv2.COLOR_BGR2RGB)\n",
        "\n",
        "    img = np.asarray(img, dtype=np.float64)\n",
        "    img /= 255.0\n",
        "\n",
        "    frames.append(img)\n",
        "\n",
        "frames = np.asarray(frames, dtype=np.float64)"
      ]
    },
    {
      "cell_type": "markdown",
      "id": "d3e589fc-902a-419d-8c9a-13311fcab7ea",
      "metadata": {
        "jp-MarkdownHeadingCollapsed": true,
        "tags": [],
        "id": "d3e589fc-902a-419d-8c9a-13311fcab7ea"
      },
      "source": [
        "#### Splitting the data"
      ]
    },
    {
      "cell_type": "code",
      "execution_count": 78,
      "id": "f859993a-2b29-4baf-a168-117151ed240b",
      "metadata": {
        "execution": {
          "iopub.execute_input": "2023-03-08T04:08:37.582241Z",
          "iopub.status.busy": "2023-03-08T04:08:37.581978Z",
          "iopub.status.idle": "2023-03-08T04:08:37.596804Z",
          "shell.execute_reply": "2023-03-08T04:08:37.595584Z",
          "shell.execute_reply.started": "2023-03-08T04:08:37.582220Z"
        },
        "colab": {
          "base_uri": "https://localhost:8080/"
        },
        "id": "f859993a-2b29-4baf-a168-117151ed240b",
        "outputId": "c70d1ecb-caf9-42b1-de91-17f8f6c4ca85"
      },
      "outputs": [
        {
          "output_type": "stream",
          "name": "stdout",
          "text": [
            "frame: (80, 120, 160, 3)\n",
            "train_frames: (48, 120, 160, 3)\n",
            "test_frames: (32, 120, 160, 3)\n"
          ]
        }
      ],
      "source": [
        "from sklearn.model_selection import train_test_split\n",
        "\n",
        "print(f'frame: {frames.shape}')\n",
        "\n",
        "train_frames, test_frames = train_test_split(frames, train_size=0.6, shuffle=False) # Do Not Shuffle!\n",
        "\n",
        "print(f'train_frames: {train_frames.shape}')\n",
        "print(f'test_frames: {test_frames.shape}')"
      ]
    },
    {
      "cell_type": "markdown",
      "source": [],
      "metadata": {
        "id": "RE54WPn5PQDP"
      },
      "id": "RE54WPn5PQDP"
    },
    {
      "cell_type": "code",
      "source": [],
      "metadata": {
        "id": "-uYbc4D5MPsh"
      },
      "id": "-uYbc4D5MPsh",
      "execution_count": null,
      "outputs": []
    },
    {
      "cell_type": "markdown",
      "id": "7ec3f0d8",
      "metadata": {
        "id": "7ec3f0d8"
      },
      "source": [
        "Note: You may use helper libraries like `imageio` for working with GIFs.\n",
        "\n",
        "```python\n",
        "import imageio\n",
        "\n",
        "def make_gif(img_list, gif_path, fps=10):\n",
        "    imageio.mimsave(gif_path, img_list, fps=fps)\n",
        "    return\n",
        "```"
      ]
    },
    {
      "cell_type": "markdown",
      "id": "7cebb520-1657-432d-959d-eec893cb9b44",
      "metadata": {
        "jp-MarkdownHeadingCollapsed": true,
        "tags": [],
        "id": "7cebb520-1657-432d-959d-eec893cb9b44"
      },
      "source": [
        "#### Frame Averaging\n",
        "\n",
        "Extract Background Image from the training data and display it."
      ]
    },
    {
      "cell_type": "code",
      "execution_count": 105,
      "id": "2d08a0a6-770f-462a-8418-a63b6ffec5a0",
      "metadata": {
        "colab": {
          "base_uri": "https://localhost:8080/",
          "height": 406
        },
        "id": "2d08a0a6-770f-462a-8418-a63b6ffec5a0",
        "outputId": "2919301c-c86f-433b-ccb1-42baeb3e76aa"
      },
      "outputs": [
        {
          "output_type": "display_data",
          "data": {
            "text/plain": [
              "<Figure size 640x480 with 1 Axes>"
            ],
            "image/png": "[encoded data removed]"
          },
          "metadata": {}
        }
      ],
      "source": [
        "import numpy as np\n",
        "\n",
        "\n",
        "background_image_avg=np.mean(train_frames, axis=0)\n",
        "background_image_uint8 = (background_image_avg * 255).astype('uint8')\n",
        "\n",
        "\n",
        "import matplotlib.pyplot as plt\n",
        "\n",
        "plt.imshow(background_image_avg)\n",
        "plt.axis('off')\n",
        "plt.show()\n"
      ]
    },
    {
      "cell_type": "code",
      "source": [
        "background_image_avg.shape"
      ],
      "metadata": {
        "colab": {
          "base_uri": "https://localhost:8080/"
        },
        "id": "aO8wS9N6osWJ",
        "outputId": "029ea035-616a-452b-ab26-f8b0e8fd2906"
      },
      "id": "aO8wS9N6osWJ",
      "execution_count": 64,
      "outputs": [
        {
          "output_type": "execute_result",
          "data": {
            "text/plain": [
              "(120, 160, 3)"
            ]
          },
          "metadata": {},
          "execution_count": 64
        }
      ]
    },
    {
      "cell_type": "markdown",
      "id": "17b08135-acc3-4a7f-8d9e-11d9d2e15507",
      "metadata": {
        "jp-MarkdownHeadingCollapsed": true,
        "tags": [],
        "id": "17b08135-acc3-4a7f-8d9e-11d9d2e15507"
      },
      "source": [
        "#### GMMs per pixel\n",
        "\n",
        "Create Set of GMMs for every pixel and fit them considering every training frame"
      ]
    },
    {
      "cell_type": "code",
      "source": [
        "import numpy as np\n",
        "from scipy.stats import multivariate_normal\n",
        "\n",
        "class GaussianMixtureModel:\n",
        "    def __init__(self, n_components, n_features):\n",
        "        self.n_components = n_components\n",
        "        self.n_features = n_features\n",
        "        self.weights = np.ones(n_components) / n_components\n",
        "        self.means = np.random.rand(n_components, n_features)\n",
        "        self.covariances = np.array([np.eye(n_features)] * n_components)\n",
        "\n",
        "\n",
        "    def fit(self, X, max_iter=100, tol=1e-3):\n",
        "        for _ in range(max_iter):\n",
        "            responsibilities = self._compute_responsibilities(X)\n",
        "\n",
        "            self._update_parameters(X, responsibilities)\n",
        "\n",
        "            if np.abs(np.sum(responsibilities - self.weights)) < tol:\n",
        "                break\n",
        "\n",
        "    def _compute_responsibilities(self, X):\n",
        "        responsibilities = np.zeros((len(X), self.n_components))\n",
        "        for i in range(len(X)):\n",
        "            for j in range(self.n_components):\n",
        "                responsibilities[i, j] = self.weights[j] * multivariate_normal.pdf(X[i], mean=self.means[j], cov=self.covariances[j])\n",
        "            responsibilities[i] /= np.sum(responsibilities[i])\n",
        "        return responsibilities\n",
        "\n",
        "    def _update_parameters(self, X, responsibilities):\n",
        "        for j in range(self.n_components):\n",
        "            N_j = np.sum(responsibilities[:, j])\n",
        "            self.weights[j] = N_j / len(X)\n",
        "            self.means[j] = np.sum(X * responsibilities[:, j][:, np.newaxis], axis=0) / N_j\n",
        "            covar_k = np.zeros((self.n_features, self.n_features))\n",
        "            for i in range(len(X)):\n",
        "                diff = X[i] - self.means[j]\n",
        "                covar_k += responsibilities[i, j] * np.outer(diff, diff)\n",
        "            self.covariances[j] = covar_k / N_j\n",
        "\n",
        "    def predict(self, X):\n",
        "        return np.argmax(self._compute_responsibilities(X), axis=1)\n",
        "\n",
        "\n",
        "\n",
        "def train_and_extract_background(train_frames, n_components=2):\n",
        "    num_frames, height, width, channels = train_frames.shape\n",
        "    background_image = np.zeros((height, width, channels))\n",
        "    pixel_gmms = []\n",
        "\n",
        "    for i in range(height):\n",
        "        for j in range(width):\n",
        "            pixel_series = train_frames[:, i, j, :].reshape(-1, channels)\n",
        "            gmm = GaussianMixtureModel(n_components=n_components, n_features=channels)  # Pass n_features\n",
        "            gmm.fit(pixel_series)\n",
        "            background_index = np.argmax(gmm.weights)\n",
        "            background_image[i, j] = gmm.means[background_index]\n",
        "            pixel_gmms.append(gmm)\n",
        "\n",
        "    return background_image, np.array(pixel_gmms).reshape(height, width)\n",
        "\n",
        "background_image, pixel_gmms = train_and_extract_background(train_frames)\n",
        "import matplotlib.pyplot as plt\n",
        "\n",
        "plt.imshow(background_image)\n",
        "plt.axis('off')\n",
        "plt.show()"
      ],
      "metadata": {
        "colab": {
          "base_uri": "https://localhost:8080/",
          "height": 406
        },
        "id": "Rj_eyE_tOwyZ",
        "outputId": "4fcb7b26-3bb2-434f-f981-9b8a8725ff3d"
      },
      "id": "Rj_eyE_tOwyZ",
      "execution_count": 103,
      "outputs": [
        {
          "output_type": "display_data",
          "data": {
            "text/plain": [
              "<Figure size 640x480 with 1 Axes>"
            ],
            "image/png": "[encoded data removed]"
          },
          "metadata": {}
        }
      ]
    },
    {
      "cell_type": "markdown",
      "id": "b046f7c9-1950-4704-a62a-f0f27079f95d",
      "metadata": {
        "jp-MarkdownHeadingCollapsed": true,
        "tags": [],
        "id": "b046f7c9-1950-4704-a62a-f0f27079f95d"
      },
      "source": [
        "#### Extract Background Image from the trained model"
      ]
    },
    {
      "cell_type": "markdown",
      "id": "898f029f-c0d6-4c33-b096-dedf4b389295",
      "metadata": {
        "jp-MarkdownHeadingCollapsed": true,
        "tags": [],
        "id": "898f029f-c0d6-4c33-b096-dedf4b389295"
      },
      "source": [
        "### Outputs\n",
        "\n",
        "You can use the helper functions given below to display and save frames as videos, feel free to change them accordingly."
      ]
    },
    {
      "cell_type": "code",
      "execution_count": 45,
      "id": "7013953b-371b-4111-ba54-cd630b64bec6",
      "metadata": {
        "execution": {
          "iopub.execute_input": "2023-03-08T04:14:25.992340Z",
          "iopub.status.busy": "2023-03-08T04:14:25.991943Z",
          "iopub.status.idle": "2023-03-08T04:14:26.000713Z",
          "shell.execute_reply": "2023-03-08T04:14:25.999863Z",
          "shell.execute_reply.started": "2023-03-08T04:14:25.992307Z"
        },
        "tags": [],
        "id": "7013953b-371b-4111-ba54-cd630b64bec6"
      },
      "outputs": [],
      "source": [
        "# helper functions\n",
        "\n",
        "def display_frames(frames, fps=10.0):\n",
        "    \"\"\"\n",
        "    Display the frames as a video.\n",
        "    \"\"\"\n",
        "    eps = 0.0001\n",
        "\n",
        "    wait_time = int(1000 // fps)\n",
        "\n",
        "    for frame in frames:\n",
        "        frame = frame.astype(np.float64)\n",
        "        frame = (frame - frame.min()) * 255 / (frame.max() - frame.min() + eps)\n",
        "        frame = frame.astype(np.uint8)\n",
        "\n",
        "        frame = cv2.cvtColor(frame, cv2.COLOR_RGB2BGR)\n",
        "\n",
        "        cv2.imshow(\"video\", frame)\n",
        "        k = cv2.waitKey(wait_time)\n",
        "\n",
        "        if k == ord('q'):\n",
        "            print(\"Quitting...\")\n",
        "            break\n",
        "\n",
        "    cv2.destroyAllWindows()\n",
        "\n",
        "\n",
        "def save_frames(frames, fps=10.0, output_path='./results', file_name='temp'):\n",
        "    \"\"\"\n",
        "    Save the frames as a video.\n",
        "    \"\"\"\n",
        "    eps = 0.0001\n",
        "\n",
        "    frame_rate = float(fps)\n",
        "    frame_size = (int(frames[0].shape[1]), int(frames[0].shape[0]))\n",
        "    wait_time = int(1000 // fps)\n",
        "\n",
        "    fourcc = cv2.VideoWriter_fourcc(*'mp4v')\n",
        "\n",
        "    save_path = os.path.join(output_path, f\"{file_name.rsplit('.', 1)[0]}.mp4\")\n",
        "\n",
        "    vid_wrt = cv2.VideoWriter(save_path, fourcc, frame_rate, frame_size)\n",
        "\n",
        "    for frame in frames:\n",
        "        frame = frame.astype(np.float64)\n",
        "        frame = (frame - frame.min()) * 255 / (frame.max() - frame.min() + eps)\n",
        "        frame = frame.astype(np.uint8)\n",
        "\n",
        "        frame = cv2.cvtColor(frame, cv2.COLOR_RGB2BGR)\n",
        "\n",
        "        cv2.imshow('frame',frame)\n",
        "        if cv2.waitKey(wait_time) & 0xFF == ord('q'):\n",
        "            break\n",
        "\n",
        "        vid_wrt.write(frame)\n",
        "\n",
        "\n",
        "    vid_wrt.release()\n",
        "    cv2.destroyAllWindows()"
      ]
    },
    {
      "cell_type": "markdown",
      "id": "68505dec-141f-463d-be72-020fca8e98da",
      "metadata": {
        "jp-MarkdownHeadingCollapsed": true,
        "tags": [],
        "id": "68505dec-141f-463d-be72-020fca8e98da"
      },
      "source": [
        "#### GMMs per pixel"
      ]
    },
    {
      "cell_type": "code",
      "execution_count": 97,
      "id": "797fa50a-8d81-4afa-affd-68bb9a10cb6d",
      "metadata": {
        "execution": {
          "iopub.execute_input": "2023-03-08T07:55:43.637039Z",
          "iopub.status.busy": "2023-03-08T07:55:43.635874Z",
          "iopub.status.idle": "2023-03-08T07:55:43.646623Z",
          "shell.execute_reply": "2023-03-08T07:55:43.644632Z",
          "shell.execute_reply.started": "2023-03-08T07:55:43.636977Z"
        },
        "tags": [],
        "id": "797fa50a-8d81-4afa-affd-68bb9a10cb6d"
      },
      "outputs": [],
      "source": [
        "def save_frames(frames, fps=10.0, output_path='./results', file_name='foreground'):\n",
        "    if not os.path.exists(output_path):\n",
        "        os.makedirs(output_path)\n",
        "\n",
        "    fourcc = cv2.VideoWriter_fourcc(*'mp4v')\n",
        "    height, width = frames[0].shape[:2]\n",
        "    out = cv2.VideoWriter(os.path.join(output_path, f'{file_name}.mp4'), fourcc, fps, (width, height))\n",
        "\n",
        "    for frame in frames:\n",
        "        if frame.shape[2] == 3:\n",
        "            frame_bgr = cv2.cvtColor((frame * 255).astype(np.uint8), cv2.COLOR_RGB2BGR)\n",
        "        else:\n",
        "            frame_bgr = (frame * 255).astype(np.uint8)\n",
        "        out.write(frame_bgr)\n",
        "\n",
        "    out.release()"
      ]
    },
    {
      "cell_type": "code",
      "execution_count": 92,
      "metadata": {
        "execution": {
          "iopub.execute_input": "2023-03-08T07:55:43.637039Z",
          "iopub.status.busy": "2023-03-08T07:55:43.635874Z",
          "iopub.status.idle": "2023-03-08T07:55:43.646623Z",
          "shell.execute_reply": "2023-03-08T07:55:43.644632Z",
          "shell.execute_reply.started": "2023-03-08T07:55:43.636977Z"
        },
        "tags": [],
        "id": "KFknLse_moAD"
      },
      "outputs": [],
      "source": [
        "def foreground_extraction(test_frames, background_gmm):\n",
        "    threshold = 0.2\n",
        "    diff = np.abs(test_frames - background_gmm)\n",
        "    mask = np.max(diff, axis=-1) > threshold\n",
        "    foreground_frames = test_frames.copy()\n",
        "    foreground_frames[~mask] = 0\n",
        "    return foreground_frames"
      ],
      "id": "KFknLse_moAD"
    },
    {
      "cell_type": "code",
      "source": [
        "foreground_frames = foreground_extraction(test_frames, background_image)\n",
        "save_frames(foreground_frames, fps=10.0, output_path='./results', file_name='backSub_gmm')\n"
      ],
      "metadata": {
        "id": "Ha71e5zKmoAE"
      },
      "execution_count": 100,
      "outputs": [],
      "id": "Ha71e5zKmoAE"
    },
    {
      "cell_type": "code",
      "source": [],
      "metadata": {
        "id": "OkDqtkUCw-aM"
      },
      "id": "OkDqtkUCw-aM",
      "execution_count": null,
      "outputs": []
    },
    {
      "cell_type": "markdown",
      "id": "c58c5b0f-9e30-44f6-88dc-8efb91e588a6",
      "metadata": {
        "jp-MarkdownHeadingCollapsed": true,
        "tags": [],
        "id": "c58c5b0f-9e30-44f6-88dc-8efb91e588a6"
      },
      "source": [
        "#### Frame Averaging"
      ]
    },
    {
      "cell_type": "code",
      "execution_count": 106,
      "id": "0603479f-0bb2-4cab-94c0-9576b99ee0cc",
      "metadata": {
        "execution": {
          "iopub.execute_input": "2023-03-08T07:55:43.637039Z",
          "iopub.status.busy": "2023-03-08T07:55:43.635874Z",
          "iopub.status.idle": "2023-03-08T07:55:43.646623Z",
          "shell.execute_reply": "2023-03-08T07:55:43.644632Z",
          "shell.execute_reply.started": "2023-03-08T07:55:43.636977Z"
        },
        "tags": [],
        "id": "0603479f-0bb2-4cab-94c0-9576b99ee0cc"
      },
      "outputs": [],
      "source": [
        "foreground_frames_avg = foreground_extraction(test_frames, background_image_avg)\n",
        "save_frames(foreground_frames_avg, fps=10.0, output_path='./results', file_name='backSub_frameavg')\n"
      ]
    },
    {
      "cell_type": "code",
      "source": [
        "background_image_avg.shape"
      ],
      "metadata": {
        "colab": {
          "base_uri": "https://localhost:8080/"
        },
        "id": "KBYlSVE3pBmm",
        "outputId": "5f89e2e0-c17c-49dc-efac-1db2e990a2f8"
      },
      "id": "KBYlSVE3pBmm",
      "execution_count": 107,
      "outputs": [
        {
          "output_type": "execute_result",
          "data": {
            "text/plain": [
              "(120, 160, 3)"
            ]
          },
          "metadata": {},
          "execution_count": 107
        }
      ]
    },
    {
      "cell_type": "code",
      "source": [
        "background_image.shape"
      ],
      "metadata": {
        "colab": {
          "base_uri": "https://localhost:8080/"
        },
        "id": "bQZLgWg3rYDM",
        "outputId": "a0f79d3a-7c73-4828-c997-2864c84bfef7"
      },
      "id": "bQZLgWg3rYDM",
      "execution_count": 101,
      "outputs": [
        {
          "output_type": "execute_result",
          "data": {
            "text/plain": [
              "(120, 160, 3)"
            ]
          },
          "metadata": {},
          "execution_count": 101
        }
      ]
    },
    {
      "cell_type": "code",
      "source": [],
      "metadata": {
        "id": "Stxg9lvHrbUH"
      },
      "id": "Stxg9lvHrbUH",
      "execution_count": null,
      "outputs": []
    }
  ],
  "metadata": {
    "kernelspec": {
      "display_name": "Python [conda env:smai]",
      "language": "python",
      "name": "conda-env-smai-py"
    },
    "language_info": {
      "codemirror_mode": {
        "name": "ipython",
        "version": 3
      },
      "file_extension": ".py",
      "mimetype": "text/x-python",
      "name": "python",
      "nbconvert_exporter": "python",
      "pygments_lexer": "ipython3",
      "version": "3.10.8"
    },
    "colab": {
      "provenance": []
    }
  },
  "nbformat": 4,
  "nbformat_minor": 5
}